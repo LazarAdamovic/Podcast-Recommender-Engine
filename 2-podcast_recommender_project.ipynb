{
 "cells": [
  {
   "cell_type": "markdown",
   "metadata": {},
   "source": [
    "# Data Recommender Engine\n"
   ]
  },
  {
   "cell_type": "markdown",
   "metadata": {},
   "source": [
    "## Pre-proccessing"
   ]
  },
  {
   "cell_type": "code",
   "execution_count": 1,
   "metadata": {},
   "outputs": [],
   "source": [
    "# import\n",
    "import pandas as pd \n",
    "import numpy as np"
   ]
  },
  {
   "cell_type": "code",
   "execution_count": 2,
   "metadata": {},
   "outputs": [],
   "source": [
    "# import dataframe\n",
    "data=pd.read_csv('../../Data/dataframe.csv')\n",
    "\n",
    "#create copy\n",
    "df=data.copy()"
   ]
  },
  {
   "cell_type": "code",
   "execution_count": 4,
   "metadata": {},
   "outputs": [],
   "source": [
    "# get rid of first column since its not needed\n",
    "\n",
    "df = df.iloc[: , 1:]"
   ]
  },
  {
   "cell_type": "code",
   "execution_count": 5,
   "metadata": {},
   "outputs": [
    {
     "data": {
      "text/html": [
       "<div>\n",
       "<style scoped>\n",
       "    .dataframe tbody tr th:only-of-type {\n",
       "        vertical-align: middle;\n",
       "    }\n",
       "\n",
       "    .dataframe tbody tr th {\n",
       "        vertical-align: top;\n",
       "    }\n",
       "\n",
       "    .dataframe thead th {\n",
       "        text-align: right;\n",
       "    }\n",
       "</style>\n",
       "<table border=\"1\" class=\"dataframe\">\n",
       "  <thead>\n",
       "    <tr style=\"text-align: right;\">\n",
       "      <th></th>\n",
       "      <th>podcast_id</th>\n",
       "      <th>author_id</th>\n",
       "      <th>created_at</th>\n",
       "      <th>podcast</th>\n",
       "      <th>title</th>\n",
       "      <th>rating</th>\n",
       "      <th>content</th>\n",
       "      <th>category_arts</th>\n",
       "      <th>category_arts-design</th>\n",
       "      <th>category_arts-fashion-beauty</th>\n",
       "      <th>...</th>\n",
       "      <th>category_kids-family</th>\n",
       "      <th>category_music</th>\n",
       "      <th>category_religion-spirituality</th>\n",
       "      <th>category_society-culture</th>\n",
       "      <th>category_society-culture-personal-journals</th>\n",
       "      <th>category_society-culture-philosophy</th>\n",
       "      <th>category_society-culture-places-travel</th>\n",
       "      <th>category_spirituality</th>\n",
       "      <th>category_technology</th>\n",
       "      <th>category_tv-film</th>\n",
       "    </tr>\n",
       "  </thead>\n",
       "  <tbody>\n",
       "    <tr>\n",
       "      <th>0</th>\n",
       "      <td>c61aa81c9b929a66f0c1db6cbe5d8548</td>\n",
       "      <td>F7E5A318989779D</td>\n",
       "      <td>2018-04-24T12:05:16-07:00</td>\n",
       "      <td>backstage-at-tilles-center</td>\n",
       "      <td>really interesting!</td>\n",
       "      <td>5.0</td>\n",
       "      <td>Thanks for providing these insights.  Really e...</td>\n",
       "      <td>1</td>\n",
       "      <td>0</td>\n",
       "      <td>0</td>\n",
       "      <td>...</td>\n",
       "      <td>0</td>\n",
       "      <td>1</td>\n",
       "      <td>0</td>\n",
       "      <td>0</td>\n",
       "      <td>0</td>\n",
       "      <td>0</td>\n",
       "      <td>0</td>\n",
       "      <td>0</td>\n",
       "      <td>0</td>\n",
       "      <td>0</td>\n",
       "    </tr>\n",
       "    <tr>\n",
       "      <th>1</th>\n",
       "      <td>c61aa81c9b929a66f0c1db6cbe5d8548</td>\n",
       "      <td>F6BF5472689BD12</td>\n",
       "      <td>2018-05-09T18:14:32-07:00</td>\n",
       "      <td>backstage-at-tilles-center</td>\n",
       "      <td>Must listen for anyone interested in the arts!!!</td>\n",
       "      <td>5.0</td>\n",
       "      <td>Super excited to see this podcast grow. So man...</td>\n",
       "      <td>1</td>\n",
       "      <td>0</td>\n",
       "      <td>0</td>\n",
       "      <td>...</td>\n",
       "      <td>0</td>\n",
       "      <td>1</td>\n",
       "      <td>0</td>\n",
       "      <td>0</td>\n",
       "      <td>0</td>\n",
       "      <td>0</td>\n",
       "      <td>0</td>\n",
       "      <td>0</td>\n",
       "      <td>0</td>\n",
       "      <td>0</td>\n",
       "    </tr>\n",
       "    <tr>\n",
       "      <th>2</th>\n",
       "      <td>ad4f2bf69c72b8db75978423c25f379e</td>\n",
       "      <td>1AB95B8E6E1309E</td>\n",
       "      <td>2019-06-11T14:53:39-07:00</td>\n",
       "      <td>ted-talks-daily</td>\n",
       "      <td>nauseatingly left</td>\n",
       "      <td>1.0</td>\n",
       "      <td>I'm a liberal myself, but its pretty obvious a...</td>\n",
       "      <td>1</td>\n",
       "      <td>1</td>\n",
       "      <td>0</td>\n",
       "      <td>...</td>\n",
       "      <td>0</td>\n",
       "      <td>0</td>\n",
       "      <td>0</td>\n",
       "      <td>0</td>\n",
       "      <td>0</td>\n",
       "      <td>0</td>\n",
       "      <td>0</td>\n",
       "      <td>0</td>\n",
       "      <td>0</td>\n",
       "      <td>0</td>\n",
       "    </tr>\n",
       "    <tr>\n",
       "      <th>3</th>\n",
       "      <td>ad4f2bf69c72b8db75978423c25f379e</td>\n",
       "      <td>11BB760AA5DEBD1</td>\n",
       "      <td>2018-05-31T13:08:09-07:00</td>\n",
       "      <td>ted-talks-daily</td>\n",
       "      <td>Diverse stories</td>\n",
       "      <td>5.0</td>\n",
       "      <td>I find Tedx talks very inspirational but I oft...</td>\n",
       "      <td>1</td>\n",
       "      <td>1</td>\n",
       "      <td>0</td>\n",
       "      <td>...</td>\n",
       "      <td>0</td>\n",
       "      <td>0</td>\n",
       "      <td>0</td>\n",
       "      <td>0</td>\n",
       "      <td>0</td>\n",
       "      <td>0</td>\n",
       "      <td>0</td>\n",
       "      <td>0</td>\n",
       "      <td>0</td>\n",
       "      <td>0</td>\n",
       "    </tr>\n",
       "    <tr>\n",
       "      <th>4</th>\n",
       "      <td>ad4f2bf69c72b8db75978423c25f379e</td>\n",
       "      <td>D86032C8E57D15A</td>\n",
       "      <td>2019-06-19T13:56:05-07:00</td>\n",
       "      <td>ted-talks-daily</td>\n",
       "      <td>👍👍👍👍</td>\n",
       "      <td>5.0</td>\n",
       "      <td>I love this podcast, it is so good.</td>\n",
       "      <td>1</td>\n",
       "      <td>1</td>\n",
       "      <td>0</td>\n",
       "      <td>...</td>\n",
       "      <td>0</td>\n",
       "      <td>0</td>\n",
       "      <td>0</td>\n",
       "      <td>0</td>\n",
       "      <td>0</td>\n",
       "      <td>0</td>\n",
       "      <td>0</td>\n",
       "      <td>0</td>\n",
       "      <td>0</td>\n",
       "      <td>0</td>\n",
       "    </tr>\n",
       "  </tbody>\n",
       "</table>\n",
       "<p>5 rows × 33 columns</p>\n",
       "</div>"
      ],
      "text/plain": [
       "                         podcast_id        author_id  \\\n",
       "0  c61aa81c9b929a66f0c1db6cbe5d8548  F7E5A318989779D   \n",
       "1  c61aa81c9b929a66f0c1db6cbe5d8548  F6BF5472689BD12   \n",
       "2  ad4f2bf69c72b8db75978423c25f379e  1AB95B8E6E1309E   \n",
       "3  ad4f2bf69c72b8db75978423c25f379e  11BB760AA5DEBD1   \n",
       "4  ad4f2bf69c72b8db75978423c25f379e  D86032C8E57D15A   \n",
       "\n",
       "                  created_at                     podcast  \\\n",
       "0  2018-04-24T12:05:16-07:00  backstage-at-tilles-center   \n",
       "1  2018-05-09T18:14:32-07:00  backstage-at-tilles-center   \n",
       "2  2019-06-11T14:53:39-07:00             ted-talks-daily   \n",
       "3  2018-05-31T13:08:09-07:00             ted-talks-daily   \n",
       "4  2019-06-19T13:56:05-07:00             ted-talks-daily   \n",
       "\n",
       "                                              title  rating  \\\n",
       "0                               really interesting!     5.0   \n",
       "1  Must listen for anyone interested in the arts!!!     5.0   \n",
       "2                                 nauseatingly left     1.0   \n",
       "3                                   Diverse stories     5.0   \n",
       "4                                              👍👍👍👍     5.0   \n",
       "\n",
       "                                             content  category_arts  \\\n",
       "0  Thanks for providing these insights.  Really e...              1   \n",
       "1  Super excited to see this podcast grow. So man...              1   \n",
       "2  I'm a liberal myself, but its pretty obvious a...              1   \n",
       "3  I find Tedx talks very inspirational but I oft...              1   \n",
       "4                I love this podcast, it is so good.              1   \n",
       "\n",
       "   category_arts-design  category_arts-fashion-beauty  ...  \\\n",
       "0                     0                             0  ...   \n",
       "1                     0                             0  ...   \n",
       "2                     1                             0  ...   \n",
       "3                     1                             0  ...   \n",
       "4                     1                             0  ...   \n",
       "\n",
       "   category_kids-family  category_music  category_religion-spirituality  \\\n",
       "0                     0               1                               0   \n",
       "1                     0               1                               0   \n",
       "2                     0               0                               0   \n",
       "3                     0               0                               0   \n",
       "4                     0               0                               0   \n",
       "\n",
       "   category_society-culture  category_society-culture-personal-journals  \\\n",
       "0                         0                                           0   \n",
       "1                         0                                           0   \n",
       "2                         0                                           0   \n",
       "3                         0                                           0   \n",
       "4                         0                                           0   \n",
       "\n",
       "   category_society-culture-philosophy  \\\n",
       "0                                    0   \n",
       "1                                    0   \n",
       "2                                    0   \n",
       "3                                    0   \n",
       "4                                    0   \n",
       "\n",
       "   category_society-culture-places-travel  category_spirituality  \\\n",
       "0                                       0                      0   \n",
       "1                                       0                      0   \n",
       "2                                       0                      0   \n",
       "3                                       0                      0   \n",
       "4                                       0                      0   \n",
       "\n",
       "   category_technology  category_tv-film  \n",
       "0                    0                 0  \n",
       "1                    0                 0  \n",
       "2                    0                 0  \n",
       "3                    0                 0  \n",
       "4                    0                 0  \n",
       "\n",
       "[5 rows x 33 columns]"
      ]
     },
     "execution_count": 5,
     "metadata": {},
     "output_type": "execute_result"
    }
   ],
   "source": [
    "df.head()"
   ]
  },
  {
   "cell_type": "code",
   "execution_count": 6,
   "metadata": {},
   "outputs": [],
   "source": [
    "# de-dummies variables\n",
    "# all the category variables were turned into dummy-variables in order to aggregate the duplicate reviews\n",
    "# they now need to be turned back into categorical variables\n",
    "\n",
    "#create new column for which the aggregated\n",
    "df['tags']=''\n",
    "\n",
    "# takes dummmies and puts them in the new column\n",
    "for col_name in df.columns[7:]:\n",
    "    df.loc[df[col_name]==1,'tags']= df['tags']+' '+col_name\n",
    "\n",
    "# get rid of columns with dummy variables\n",
    "df=df[['podcast_id', 'author_id', 'created_at', 'podcast', 'title', 'rating', #gets rid of dummie features\n",
    "       'content','tags']]\n",
    "\n",
    "\n",
    "# slice strings to get rid of \"category_\" part of the value\n",
    "\n",
    "df['tags']=df['tags'].astype(str)\n",
    "\n",
    "df['tags']=df['tags'].apply(lambda x: [w[9:] for w in x.split()])"
   ]
  },
  {
   "cell_type": "code",
   "execution_count": 7,
   "metadata": {},
   "outputs": [],
   "source": [
    "# change date+time value in in the 'created_at' column into 'year'\n",
    "\n",
    "# change to datetime\n",
    "df['created_at']=pd.to_datetime(df['created_at'])\n",
    "\n",
    "# change datetime to year\n",
    "df['year']=df['created_at'].apply(lambda x: x.strftime('%Y'))"
   ]
  },
  {
   "cell_type": "code",
   "execution_count": 9,
   "metadata": {},
   "outputs": [],
   "source": [
    "# turn rating into string \n",
    "df['rating'] = df.rating.astype(str)"
   ]
  },
  {
   "cell_type": "code",
   "execution_count": 10,
   "metadata": {},
   "outputs": [
    {
     "name": "stderr",
     "output_type": "stream",
     "text": [
      "[nltk_data] Downloading package wordnet to\n",
      "[nltk_data]     C:\\Users\\lazar\\AppData\\Roaming\\nltk_data...\n",
      "[nltk_data]   Package wordnet is already up-to-date!\n"
     ]
    }
   ],
   "source": [
    "# pre-processsing content\n",
    "\n",
    "#installing all packages\n",
    "from nltk.tokenize import RegexpTokenizer\n",
    "from nltk.corpus import stopwords\n",
    "from nltk.stem.wordnet import WordNetLemmatizer \n",
    "from nltk.tokenize.treebank import TreebankWordDetokenizer\n",
    "import nltk\n",
    "nltk.download('wordnet')\n",
    "\n",
    "# pseudo-pipeline\n",
    "def cleaning_content(x):\n",
    "    \n",
    "    # tokenize and remove punctuation\n",
    "    tokenizer = RegexpTokenizer(r'\\w+')\n",
    "    tokenized=tokenizer.tokenize(x)\n",
    "    \n",
    "    # turn all characters into lowercase\n",
    "    lowered = [w.lower() for w in tokenized]\n",
    "    \n",
    "    #removing stopwords\n",
    "    stop_words = stopwords.words('english')\n",
    "    rm_stopwords=[w for w in lowered if not w in stop_words]\n",
    "    \n",
    "    #lemmatize\n",
    "    lemmatizer = WordNetLemmatizer()  \n",
    "    lemmatized=[lemmatizer.lemmatize(token) for token in rm_stopwords]\n",
    "\n",
    "    return lemmatized\n",
    "\n",
    "df['lemmatized']=[cleaning_content(x) for x in df['content']]\n",
    "\n"
   ]
  },
  {
   "cell_type": "code",
   "execution_count": 11,
   "metadata": {},
   "outputs": [
    {
     "name": "stderr",
     "output_type": "stream",
     "text": [
      "C:\\Users\\lazar\\AppData\\Local\\Temp/ipykernel_9684/2586138558.py:5: SettingWithCopyWarning: \n",
      "A value is trying to be set on a copy of a slice from a DataFrame.\n",
      "Try using .loc[row_indexer,col_indexer] = value instead\n",
      "\n",
      "See the caveats in the documentation: https://pandas.pydata.org/pandas-docs/stable/user_guide/indexing.html#returning-a-view-versus-a-copy\n",
      "  df['rating'] = df.rating.astype(str)\n"
     ]
    }
   ],
   "source": [
    "# keep only necessary rows\n",
    "df=df[['podcast_id','author_id','podcast','year','rating','lemmatized','tags']]\n",
    "\n",
    "# turn rating into string \n",
    "df['rating'] = df.rating.astype(str)"
   ]
  },
  {
   "cell_type": "code",
   "execution_count": 12,
   "metadata": {},
   "outputs": [
    {
     "name": "stderr",
     "output_type": "stream",
     "text": [
      "C:\\Users\\lazar\\AppData\\Local\\Temp/ipykernel_9684/3302368480.py:5: SettingWithCopyWarning: \n",
      "A value is trying to be set on a copy of a slice from a DataFrame.\n",
      "Try using .loc[row_indexer,col_indexer] = value instead\n",
      "\n",
      "See the caveats in the documentation: https://pandas.pydata.org/pandas-docs/stable/user_guide/indexing.html#returning-a-view-versus-a-copy\n",
      "  df['string_soup']=df['author_id']+' '+df['year']+' '+df['podcast']+' '+df['rating']\n",
      "C:\\Users\\lazar\\AppData\\Local\\Temp/ipykernel_9684/3302368480.py:8: SettingWithCopyWarning: \n",
      "A value is trying to be set on a copy of a slice from a DataFrame.\n",
      "Try using .loc[row_indexer,col_indexer] = value instead\n",
      "\n",
      "See the caveats in the documentation: https://pandas.pydata.org/pandas-docs/stable/user_guide/indexing.html#returning-a-view-versus-a-copy\n",
      "  df['string_soup_r']=df['author_id']+' '+df['year']+' '+df['podcast']\n"
     ]
    }
   ],
   "source": [
    "# create a soup column which combines all the features\n",
    "# since the dataframe has some columns which are strings and others which are lists of strings, addditional processing needs to be performed\n",
    "\n",
    "# combining all the stringed columns into a column which will be called 'soup'\n",
    "df['string_soup']=df['author_id']+' '+df['year']+' '+df['podcast']+' '+df['rating']\n",
    "\n",
    "# this soup column will not have the rating included. Later will be testing whether changes in parameters will create better results\n",
    "df['string_soup_r']=df['author_id']+' '+df['year']+' '+df['podcast']\n",
    "\n",
    "\n",
    "# combine all lists \n",
    "def extender(x):\n",
    "    return ' '.join(x['tags'] + x['lemmatized'])\n",
    "df['lst_soup']=df.apply(extender, axis=1)\n",
    "\n",
    "\n",
    "# combine both columns into one soup\n",
    "def extender_soup(x):\n",
    "    return x['string_soup'] + ' ' + x['lst_soup']\n",
    "df['soup']=df.apply(extender_soup, axis=1)\n",
    "\n",
    "# combine both columns into one soup wihout rating\n",
    "def extender_soup(x):\n",
    "    return x['string_soup_r'] + ' ' + x['lst_soup']\n",
    "df['soup_r']=df.apply(extender_soup, axis=1)"
   ]
  },
  {
   "cell_type": "code",
   "execution_count": 13,
   "metadata": {},
   "outputs": [],
   "source": [
    "# making copy of dataframe\n",
    "\n",
    "df_soup=df.copy()\n",
    "df_soup_r=df.copy() #this will be the new dataframe with rating as it's own column\n",
    "\n",
    "# dropping all columns except for the soup\n",
    "\n",
    "df_soup=df_soup[['podcast_id','soup']] \n",
    "df_soup_r=df_soup_r[['podcast_id','soup','rating']]"
   ]
  },
  {
   "cell_type": "code",
   "execution_count": 14,
   "metadata": {},
   "outputs": [
    {
     "data": {
      "text/html": [
       "<div>\n",
       "<style scoped>\n",
       "    .dataframe tbody tr th:only-of-type {\n",
       "        vertical-align: middle;\n",
       "    }\n",
       "\n",
       "    .dataframe tbody tr th {\n",
       "        vertical-align: top;\n",
       "    }\n",
       "\n",
       "    .dataframe thead th {\n",
       "        text-align: right;\n",
       "    }\n",
       "</style>\n",
       "<table border=\"1\" class=\"dataframe\">\n",
       "  <thead>\n",
       "    <tr style=\"text-align: right;\">\n",
       "      <th></th>\n",
       "      <th>podcast_id</th>\n",
       "      <th>soup</th>\n",
       "      <th>rating</th>\n",
       "    </tr>\n",
       "  </thead>\n",
       "  <tbody>\n",
       "    <tr>\n",
       "      <th>0</th>\n",
       "      <td>c61aa81c9b929a66f0c1db6cbe5d8548</td>\n",
       "      <td>F7E5A318989779D 2018 backstage-at-tilles-cente...</td>\n",
       "      <td>5.0</td>\n",
       "    </tr>\n",
       "    <tr>\n",
       "      <th>1</th>\n",
       "      <td>c61aa81c9b929a66f0c1db6cbe5d8548</td>\n",
       "      <td>F6BF5472689BD12 2018 backstage-at-tilles-cente...</td>\n",
       "      <td>5.0</td>\n",
       "    </tr>\n",
       "    <tr>\n",
       "      <th>2</th>\n",
       "      <td>ad4f2bf69c72b8db75978423c25f379e</td>\n",
       "      <td>1AB95B8E6E1309E 2019 ted-talks-daily 1.0 arts ...</td>\n",
       "      <td>1.0</td>\n",
       "    </tr>\n",
       "    <tr>\n",
       "      <th>3</th>\n",
       "      <td>ad4f2bf69c72b8db75978423c25f379e</td>\n",
       "      <td>11BB760AA5DEBD1 2018 ted-talks-daily 5.0 arts ...</td>\n",
       "      <td>5.0</td>\n",
       "    </tr>\n",
       "    <tr>\n",
       "      <th>4</th>\n",
       "      <td>ad4f2bf69c72b8db75978423c25f379e</td>\n",
       "      <td>D86032C8E57D15A 2019 ted-talks-daily 5.0 arts ...</td>\n",
       "      <td>5.0</td>\n",
       "    </tr>\n",
       "  </tbody>\n",
       "</table>\n",
       "</div>"
      ],
      "text/plain": [
       "                         podcast_id  \\\n",
       "0  c61aa81c9b929a66f0c1db6cbe5d8548   \n",
       "1  c61aa81c9b929a66f0c1db6cbe5d8548   \n",
       "2  ad4f2bf69c72b8db75978423c25f379e   \n",
       "3  ad4f2bf69c72b8db75978423c25f379e   \n",
       "4  ad4f2bf69c72b8db75978423c25f379e   \n",
       "\n",
       "                                                soup rating  \n",
       "0  F7E5A318989779D 2018 backstage-at-tilles-cente...    5.0  \n",
       "1  F6BF5472689BD12 2018 backstage-at-tilles-cente...    5.0  \n",
       "2  1AB95B8E6E1309E 2019 ted-talks-daily 1.0 arts ...    1.0  \n",
       "3  11BB760AA5DEBD1 2018 ted-talks-daily 5.0 arts ...    5.0  \n",
       "4  D86032C8E57D15A 2019 ted-talks-daily 5.0 arts ...    5.0  "
      ]
     },
     "execution_count": 14,
     "metadata": {},
     "output_type": "execute_result"
    }
   ],
   "source": [
    "df_soup_r.head()"
   ]
  },
  {
   "cell_type": "code",
   "execution_count": 15,
   "metadata": {},
   "outputs": [
    {
     "data": {
      "text/html": [
       "<div>\n",
       "<style scoped>\n",
       "    .dataframe tbody tr th:only-of-type {\n",
       "        vertical-align: middle;\n",
       "    }\n",
       "\n",
       "    .dataframe tbody tr th {\n",
       "        vertical-align: top;\n",
       "    }\n",
       "\n",
       "    .dataframe thead th {\n",
       "        text-align: right;\n",
       "    }\n",
       "</style>\n",
       "<table border=\"1\" class=\"dataframe\">\n",
       "  <thead>\n",
       "    <tr style=\"text-align: right;\">\n",
       "      <th></th>\n",
       "      <th>podcast_id</th>\n",
       "      <th>soup</th>\n",
       "    </tr>\n",
       "  </thead>\n",
       "  <tbody>\n",
       "    <tr>\n",
       "      <th>0</th>\n",
       "      <td>c61aa81c9b929a66f0c1db6cbe5d8548</td>\n",
       "      <td>F7E5A318989779D 2018 backstage-at-tilles-cente...</td>\n",
       "    </tr>\n",
       "    <tr>\n",
       "      <th>1</th>\n",
       "      <td>c61aa81c9b929a66f0c1db6cbe5d8548</td>\n",
       "      <td>F6BF5472689BD12 2018 backstage-at-tilles-cente...</td>\n",
       "    </tr>\n",
       "    <tr>\n",
       "      <th>2</th>\n",
       "      <td>ad4f2bf69c72b8db75978423c25f379e</td>\n",
       "      <td>1AB95B8E6E1309E 2019 ted-talks-daily 1.0 arts ...</td>\n",
       "    </tr>\n",
       "    <tr>\n",
       "      <th>3</th>\n",
       "      <td>ad4f2bf69c72b8db75978423c25f379e</td>\n",
       "      <td>11BB760AA5DEBD1 2018 ted-talks-daily 5.0 arts ...</td>\n",
       "    </tr>\n",
       "    <tr>\n",
       "      <th>4</th>\n",
       "      <td>ad4f2bf69c72b8db75978423c25f379e</td>\n",
       "      <td>D86032C8E57D15A 2019 ted-talks-daily 5.0 arts ...</td>\n",
       "    </tr>\n",
       "  </tbody>\n",
       "</table>\n",
       "</div>"
      ],
      "text/plain": [
       "                         podcast_id  \\\n",
       "0  c61aa81c9b929a66f0c1db6cbe5d8548   \n",
       "1  c61aa81c9b929a66f0c1db6cbe5d8548   \n",
       "2  ad4f2bf69c72b8db75978423c25f379e   \n",
       "3  ad4f2bf69c72b8db75978423c25f379e   \n",
       "4  ad4f2bf69c72b8db75978423c25f379e   \n",
       "\n",
       "                                                soup  \n",
       "0  F7E5A318989779D 2018 backstage-at-tilles-cente...  \n",
       "1  F6BF5472689BD12 2018 backstage-at-tilles-cente...  \n",
       "2  1AB95B8E6E1309E 2019 ted-talks-daily 1.0 arts ...  \n",
       "3  11BB760AA5DEBD1 2018 ted-talks-daily 5.0 arts ...  \n",
       "4  D86032C8E57D15A 2019 ted-talks-daily 5.0 arts ...  "
      ]
     },
     "execution_count": 15,
     "metadata": {},
     "output_type": "execute_result"
    }
   ],
   "source": [
    "df_soup.head()"
   ]
  },
  {
   "cell_type": "markdown",
   "metadata": {},
   "source": [
    "## Models"
   ]
  },
  {
   "cell_type": "markdown",
   "metadata": {},
   "source": [
    "### Cosine Similarity"
   ]
  },
  {
   "cell_type": "code",
   "execution_count": 16,
   "metadata": {},
   "outputs": [
    {
     "data": {
      "text/plain": [
       "(983900, 5000)"
      ]
     },
     "execution_count": 16,
     "metadata": {},
     "output_type": "execute_result"
    }
   ],
   "source": [
    "# Import CountVectorizer and create the count matrix\n",
    "from sklearn.feature_extraction.text import CountVectorizer\n",
    "\n",
    "# Run Vectorizer\n",
    "count = CountVectorizer(max_features=5000)\n",
    "count_matrix = count.fit_transform(df_soup['soup'])\n",
    "count_matrix.shape"
   ]
  },
  {
   "cell_type": "code",
   "execution_count": 17,
   "metadata": {},
   "outputs": [
    {
     "data": {
      "text/plain": [
       "<983900x5000 sparse matrix of type '<class 'numpy.int64'>'\n",
       "\twith 23308599 stored elements in Compressed Sparse Row format>"
      ]
     },
     "execution_count": 17,
     "metadata": {},
     "output_type": "execute_result"
    }
   ],
   "source": [
    "count_matrix"
   ]
  },
  {
   "cell_type": "code",
   "execution_count": 18,
   "metadata": {},
   "outputs": [
    {
     "data": {
      "text/html": [
       "<div>\n",
       "<style scoped>\n",
       "    .dataframe tbody tr th:only-of-type {\n",
       "        vertical-align: middle;\n",
       "    }\n",
       "\n",
       "    .dataframe tbody tr th {\n",
       "        vertical-align: top;\n",
       "    }\n",
       "\n",
       "    .dataframe thead th {\n",
       "        text-align: right;\n",
       "    }\n",
       "</style>\n",
       "<table border=\"1\" class=\"dataframe\">\n",
       "  <thead>\n",
       "    <tr style=\"text-align: right;\">\n",
       "      <th></th>\n",
       "      <th>podcast_id</th>\n",
       "      <th>vectors</th>\n",
       "    </tr>\n",
       "  </thead>\n",
       "  <tbody>\n",
       "    <tr>\n",
       "      <th>0</th>\n",
       "      <td>c61aa81c9b929a66f0c1db6cbe5d8548</td>\n",
       "      <td>(0, 30)\\t1\\n  (0, 343)\\t1\\n  (0, 756)\\t1\\n  ...</td>\n",
       "    </tr>\n",
       "    <tr>\n",
       "      <th>1</th>\n",
       "      <td>c61aa81c9b929a66f0c1db6cbe5d8548</td>\n",
       "      <td>(0, 30)\\t1\\n  (0, 343)\\t1\\n  (0, 756)\\t1\\n  ...</td>\n",
       "    </tr>\n",
       "    <tr>\n",
       "      <th>2</th>\n",
       "      <td>ad4f2bf69c72b8db75978423c25f379e</td>\n",
       "      <td>(0, 325)\\t2\\n  (0, 3950)\\t1\\n  (0, 31)\\t1\\n ...</td>\n",
       "    </tr>\n",
       "    <tr>\n",
       "      <th>3</th>\n",
       "      <td>ad4f2bf69c72b8db75978423c25f379e</td>\n",
       "      <td>(0, 30)\\t1\\n  (0, 325)\\t2\\n  (0, 4393)\\t1\\n ...</td>\n",
       "    </tr>\n",
       "    <tr>\n",
       "      <th>4</th>\n",
       "      <td>ad4f2bf69c72b8db75978423c25f379e</td>\n",
       "      <td>(0, 325)\\t2\\n  (0, 3389)\\t1\\n  (0, 31)\\t1\\n ...</td>\n",
       "    </tr>\n",
       "  </tbody>\n",
       "</table>\n",
       "</div>"
      ],
      "text/plain": [
       "                         podcast_id  \\\n",
       "0  c61aa81c9b929a66f0c1db6cbe5d8548   \n",
       "1  c61aa81c9b929a66f0c1db6cbe5d8548   \n",
       "2  ad4f2bf69c72b8db75978423c25f379e   \n",
       "3  ad4f2bf69c72b8db75978423c25f379e   \n",
       "4  ad4f2bf69c72b8db75978423c25f379e   \n",
       "\n",
       "                                             vectors  \n",
       "0    (0, 30)\\t1\\n  (0, 343)\\t1\\n  (0, 756)\\t1\\n  ...  \n",
       "1    (0, 30)\\t1\\n  (0, 343)\\t1\\n  (0, 756)\\t1\\n  ...  \n",
       "2    (0, 325)\\t2\\n  (0, 3950)\\t1\\n  (0, 31)\\t1\\n ...  \n",
       "3    (0, 30)\\t1\\n  (0, 325)\\t2\\n  (0, 4393)\\t1\\n ...  \n",
       "4    (0, 325)\\t2\\n  (0, 3389)\\t1\\n  (0, 31)\\t1\\n ...  "
      ]
     },
     "execution_count": 18,
     "metadata": {},
     "output_type": "execute_result"
    }
   ],
   "source": [
    "#turn matrix into dataframe\n",
    "df_countmatrix=pd.DataFrame(count_matrix, columns=['vectors'])\n",
    "\n",
    "#merge podcast_id and countmatrix\n",
    "df_countmatrix=df_soup[['podcast_id']].join(df_countmatrix)\n",
    "df_countmatrix.head()"
   ]
  },
  {
   "cell_type": "code",
   "execution_count": 19,
   "metadata": {},
   "outputs": [],
   "source": [
    "# import sklearn.metrics.pairwise import cosine_similarity\n",
    "from sklearn.metrics.pairwise import cosine_similarity\n",
    "\n",
    "def recommend_podcast_cosine(df, index):\n",
    "    smin = None\n",
    "    imax2 = None\n",
    "    row = df.iloc[index]\n",
    "    \n",
    "    # loop through dataframe rows\n",
    "    for index2, row2 in df.iterrows():\n",
    "    \n",
    "        #loop through column in those rows\n",
    "        #index != index2:\n",
    "        if row['podcast_id'] != row2['podcast_id']: #index != index2:\n",
    "            s = cosine_similarity(row['vectors'], row2['vectors'])\n",
    "            \n",
    "            # find smallest distance between two vectors\n",
    "            if smin == None or s < smin:\n",
    "                smin = s\n",
    "                imax2 = index2\n",
    "    return imax2, smin"
   ]
  },
  {
   "cell_type": "code",
   "execution_count": 26,
   "metadata": {},
   "outputs": [],
   "source": [
    "# results\n",
    "\n",
    "# index of the podcast_id\n",
    "i_cos = 12345 \n",
    "\n",
    "# run the funcion\n",
    "rec_cos = recommend_podcast_cosine(df_countmatrix,i_cos)\n",
    "x=rec_cos[0]"
   ]
  },
  {
   "cell_type": "code",
   "execution_count": 27,
   "metadata": {},
   "outputs": [
    {
     "name": "stdout",
     "output_type": "stream",
     "text": [
      "['e259af857dea4eb1fe6e3be818488bbc', 'F34A21A65DD8237 2018 hallowed-histories 5.0 society-culture society-culture-places-travel podcast present various topic folklore highly engaging way always learn something new listened highly recommend podcast']\n"
     ]
    }
   ],
   "source": [
    "#this this is the 'listened to' podcast\n",
    "print(list(df_soup.iloc[i_cos]))"
   ]
  },
  {
   "cell_type": "code",
   "execution_count": 28,
   "metadata": {},
   "outputs": [
    {
     "name": "stdout",
     "output_type": "stream",
     "text": [
      "['ad4f2bf69c72b8db75978423c25f379e', '1AB95B8E6E1309E 2019 ted-talks-daily 1.0 arts arts-design education liberal pretty obvious annoying trying push belief listener get politically diverse production staff like see issue multiple point view']\n"
     ]
    }
   ],
   "source": [
    "# this is the recommended podcast\n",
    "print(list(df_soup.iloc[x]))"
   ]
  },
  {
   "cell_type": "markdown",
   "metadata": {},
   "source": [
    "As we can see above, the cosine similarity model does not produce the best results."
   ]
  },
  {
   "cell_type": "markdown",
   "metadata": {},
   "source": [
    "### Jaccard Similarity"
   ]
  },
  {
   "cell_type": "markdown",
   "metadata": {},
   "source": [
    "#### Jaccard Similarity"
   ]
  },
  {
   "cell_type": "code",
   "execution_count": 21,
   "metadata": {},
   "outputs": [],
   "source": [
    "# function to create jaccard simualirty score\n",
    "# there is no prebuilt jaccard function that takes both float points and strings, so I created my own\n",
    "\n",
    "def jaccard_similarity(a, b): \n",
    "    # convert to set and tokenize soup\n",
    "    a1 = set(a.split()) ####  can remove this and tokenize df_soup['soup']\n",
    "    b1 = set(b.split())\n",
    "    \n",
    "    # calucate jaccard similarity\n",
    "    j = float(len(a1.intersection(b1))) / len(a1.union(b1))\n",
    "    return j"
   ]
  },
  {
   "cell_type": "code",
   "execution_count": 22,
   "metadata": {},
   "outputs": [],
   "source": [
    "# Return recommended Podcast ID for input index of a review\n",
    "def recommend_podcast_jaccard(df, index):\n",
    "    smax = 0\n",
    "    row = df.iloc[index]\n",
    "    for index2, row2 in df.iterrows():\n",
    "    # print(index, row['podcast_id'], row['soup'])\n",
    "    \n",
    "    #loop through column in those rows and get the cosine similarity \n",
    "        #index != index2:\n",
    "        if row['podcast_id'] != row2['podcast_id']: #index != index2:\n",
    "            s = jaccard_similarity(row['soup'], row2['soup'])\n",
    "            \n",
    "            #find greatest jaccard scores\n",
    "            if s > smax:\n",
    "                smax = s\n",
    "                imax2 = index2\n",
    "    return imax2, smax"
   ]
  },
  {
   "cell_type": "code",
   "execution_count": 23,
   "metadata": {},
   "outputs": [
    {
     "name": "stdout",
     "output_type": "stream",
     "text": [
      "['e259af857dea4eb1fe6e3be818488bbc', 'F34A21A65DD8237 2018 hallowed-histories 5.0 society-culture society-culture-places-travel podcast present various topic folklore highly engaging way always learn something new listened highly recommend podcast']\n",
      "['f7a663723c114efc208ba3894b680b62', 'F34A21A65DD8237 2018 early-stuart-england 5.0 society-culture podcast present history early stuart england engaging way always learn something new listened highly recommend show well worth listen']\n"
     ]
    }
   ],
   "source": [
    "# results\n",
    "\n",
    "# index of the podcast_id\n",
    "i = 12345 \n",
    "\n",
    "# run the funcion\n",
    "imax2 = recommend_podcast_jaccard(df_soup, i)\n",
    "x=imax2[0]\n",
    "\n",
    "#this this is the 'listened to' podcast\n",
    "print(list(df_soup.iloc[i]))\n",
    "\n",
    "# this is the recommended podcast\n",
    "print(list(df_soup.iloc[x]))"
   ]
  },
  {
   "cell_type": "code",
   "execution_count": 25,
   "metadata": {},
   "outputs": [
    {
     "data": {
      "text/plain": [
       "0.5172413793103449"
      ]
     },
     "execution_count": 25,
     "metadata": {},
     "output_type": "execute_result"
    }
   ],
   "source": [
    "# print of the similarity score\n",
    "\n",
    "imax2[1]"
   ]
  },
  {
   "cell_type": "markdown",
   "metadata": {},
   "source": [
    "Interpretation of results: Jaccard similarity tends to lead to better results compared to cosine similarity. Unlike other machine learning models, there is no true way to test the accuracy of the results. The best we can do is test several different podcasts ourselves, and decide which model performs better. \n",
    "\n",
    "In a proper business setting, we would use an A/B testing method. Half of the users would see the recommended podcasts from the cosine similarity model and the other half would see podcasts from the Jaccard similarity model. We would take measures to ensure both samples are representative of the whole population of users of the app/website. This is to eliminate as much bias as possible from our experiment design. We would measure the success of a given model based on a single metric or an aggregation of several metrics such as the number of clicks, listen time of the recommended podcast, or level of interaction with the podcast. Finally, we would perform a student's t-test or a similar test. "
   ]
  },
  {
   "cell_type": "markdown",
   "metadata": {},
   "source": [
    "#### Jaccard score with weighted rating"
   ]
  },
  {
   "cell_type": "code",
   "execution_count": null,
   "metadata": {},
   "outputs": [],
   "source": [
    "# Return recommended Podcast ID for input index of a review with a weighted rating\n",
    "# instead of including it within the jaccard score, the was multiplied by the jaccard score\n",
    "\n",
    "def recommend_podcast_jaccard_rating(df, index):\n",
    "    smax = 0\n",
    "    row = df.iloc[index]\n",
    "    for index2, row2 in df.iterrows():\n",
    "        #print(index, row['podcast_id'], row['soup'])\n",
    "    \n",
    "    #loop through column in those rows and get the jaccard score\n",
    "    #index != index2:\n",
    "        if row['podcast_id'] != row2['podcast_id']:\n",
    "            s = jaccard_similarity(row['soup'], row2['soup'])\n",
    "            \n",
    "            #weighted rating score\n",
    "            s = float(s) * float(row2['rating'])\n",
    "            \n",
    "            if s > smax:\n",
    "                smax = s\n",
    "                imax2 = index2\n",
    "    return imax2, smax"
   ]
  },
  {
   "cell_type": "code",
   "execution_count": null,
   "metadata": {},
   "outputs": [],
   "source": [
    "# no real difference in results\n",
    "\n",
    "i = 1234\n",
    "imax2 = recommend_podcast_jaccard_rating(df_countmatrix,i)\n",
    "x=imax2[0]\n",
    "print(list(df_soup_r.iloc[i]))\n",
    "print(list(df_soup_r.iloc[x]))"
   ]
  }
 ],
 "metadata": {
  "interpreter": {
   "hash": "4b6eb38bdf5e5ad4df4721abb2468d830c2ccff7ccbaee8a7326e2cd2ef9f9d4"
  },
  "kernelspec": {
   "display_name": "Python 3.8.12 64-bit ('base': conda)",
   "name": "python3"
  },
  "language_info": {
   "codemirror_mode": {
    "name": "ipython",
    "version": 3
   },
   "file_extension": ".py",
   "mimetype": "text/x-python",
   "name": "python",
   "nbconvert_exporter": "python",
   "pygments_lexer": "ipython3",
   "version": "3.8.12"
  }
 },
 "nbformat": 4,
 "nbformat_minor": 4
}
