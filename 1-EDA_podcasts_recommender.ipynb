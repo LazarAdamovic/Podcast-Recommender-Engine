{
 "cells": [
  {
   "cell_type": "markdown",
   "metadata": {},
   "source": [
    "# This is a blank .ipynb file\n",
    "\n",
    "## Because VS Code operates shoddily with them\n",
    "\n"
   ]
  },
  {
   "cell_type": "code",
   "execution_count": null,
   "metadata": {},
   "outputs": [],
   "source": [
    "import pandas as pd\n",
    "import numpy as np"
   ]
  },
  {
   "cell_type": "code",
   "execution_count": null,
   "metadata": {},
   "outputs": [],
   "source": [
    "#importing sql query from ____.sqllite\n",
    "\n",
    "data_hardcopy=pd.read_csv('query.csv', engine='python')"
   ]
  },
  {
   "cell_type": "code",
   "execution_count": null,
   "metadata": {},
   "outputs": [],
   "source": [
    "#creating hardcopy of the data\n",
    "\n",
    "data=data_hardcopy.copy()"
   ]
  },
  {
   "cell_type": "code",
   "execution_count": null,
   "metadata": {},
   "outputs": [],
   "source": [
    "data"
   ]
  },
  {
   "cell_type": "code",
   "execution_count": null,
   "metadata": {},
   "outputs": [],
   "source": [
    "#rename this colmn\n",
    "\n",
    "data.rename(columns= {'slug':'podcast'}, inplace=True)"
   ]
  },
  {
   "cell_type": "code",
   "execution_count": null,
   "metadata": {},
   "outputs": [],
   "source": [
    "#reordering columns\n",
    "\n",
    "data=data[['podcast_id', 'author_id','created_at','podcast','rating','title','content','category']]"
   ]
  },
  {
   "cell_type": "code",
   "execution_count": null,
   "metadata": {},
   "outputs": [],
   "source": [
    "'''\n",
    "Here we can see the dataset.\n",
    "\n",
    "podcast_id: id of the podcast [categorical]\n",
    "author_id: the author of the review [categorical]\n",
    "created_at: date/time when the podcast was created [datetime]\n",
    "podcast: Podcast name [categorical]\n",
    "rating: rating of the podcast [float]\n",
    "title: title of the review [text]\n",
    "content: content of the podcast [text]\n",
    "category: category which is included in the podcast [categorical]\n",
    "'''\n",
    "\n",
    "data"
   ]
  },
  {
   "cell_type": "code",
   "execution_count": null,
   "metadata": {},
   "outputs": [],
   "source": [
    "print(len(data['title'].unique()))"
   ]
  },
  {
   "cell_type": "code",
   "execution_count": null,
   "metadata": {},
   "outputs": [],
   "source": [
    "# one hot encoding the categorical variables\n",
    "\n",
    "data=pd.get_dummies(data, columns=['category'], prefix='category')"
   ]
  },
  {
   "cell_type": "code",
   "execution_count": null,
   "metadata": {},
   "outputs": [],
   "source": [
    "data.head(5)"
   ]
  },
  {
   "cell_type": "code",
   "execution_count": null,
   "metadata": {},
   "outputs": [],
   "source": [
    "# merging duplicate reviews\n",
    "\n",
    "'''\n",
    "If you look at the data above you will notice there are lot of duplicate reviews, where aside from the category everything is exactly the same.\n",
    "This occurred because of a one-to-many relationship for individual podcast reviews and the categories in the database.\n",
    "To remedy this we will merge all the copies of the reviews.\n",
    "'''\n",
    "\n",
    "data=data.groupby(['podcast_id','author_id','created_at','podcast','title','rating','content'], as_index=False, sort=False).sum() #groupby everything except the categories"
   ]
  },
  {
   "cell_type": "code",
   "execution_count": null,
   "metadata": {},
   "outputs": [],
   "source": [
    "data.iloc[3]"
   ]
  },
  {
   "cell_type": "code",
   "execution_count": null,
   "metadata": {},
   "outputs": [],
   "source": [
    "# shape of data\n",
    "\n",
    "data.shape"
   ]
  },
  {
   "cell_type": "code",
   "execution_count": null,
   "metadata": {},
   "outputs": [],
   "source": [
    "data[['rating', 'title']].groupby('rating', as_index=False).count()"
   ]
  },
  {
   "cell_type": "code",
   "execution_count": null,
   "metadata": {},
   "outputs": [],
   "source": [
    "# graphing the reviews\n",
    "\n",
    "'''As you see in the following graph the percentages of reviews mostly stay the same'''\n",
    "\n",
    "#import libraries\n",
    "import matplotlib.pyplot as plt\n",
    "import seaborn as sns\n",
    "\n",
    "#define data, x and y\n",
    "temp=data[['rating', 'title']].groupby('rating', as_index=False).count()\n",
    "x=temp.rating\n",
    "y=temp.title\n",
    "\n",
    "#define Seaborn color palette to use and size \n",
    "colors = sns.color_palette('colorblind')[0:5]\n",
    "plt.rcParams['figure.figsize'] = [16, 10]\n",
    "\n",
    "plt.pie(y, labels=x, colors = colors, autopct='%.0f%%')\n",
    "plt.show()  "
   ]
  },
  {
   "cell_type": "code",
   "execution_count": null,
   "metadata": {},
   "outputs": [],
   "source": [
    "#checking for nulls\n",
    "\n",
    "data.isnull().sum()"
   ]
  },
  {
   "cell_type": "code",
   "execution_count": null,
   "metadata": {},
   "outputs": [],
   "source": [
    "data.nunique()"
   ]
  },
  {
   "cell_type": "code",
   "execution_count": null,
   "metadata": {},
   "outputs": [],
   "source": [
    "#number of podcasts reviewed\n",
    "\n",
    "pod_num=data['podcast_id'].nunique()"
   ]
  },
  {
   "cell_type": "code",
   "execution_count": null,
   "metadata": {},
   "outputs": [],
   "source": [
    "# number of reviewers\n",
    "\n",
    "auth_num=data['author_id'].nunique()"
   ]
  },
  {
   "cell_type": "code",
   "execution_count": null,
   "metadata": {},
   "outputs": [],
   "source": [
    "# A reviewer makes 1.3 reviews on average. That means we cannot perform collaborative filtering. However, there are certian reviewers who tend to review a lot more podcasts than the regular perso\n",
    "\n",
    "data.groupby(['author_id']).count().mean()[0]"
   ]
  },
  {
   "cell_type": "code",
   "execution_count": null,
   "metadata": {},
   "outputs": [],
   "source": [
    "data.to_csv(r'Data/dataframe.csv')"
   ]
  }
 ],
 "metadata": {
  "interpreter": {
   "hash": "4b6eb38bdf5e5ad4df4721abb2468d830c2ccff7ccbaee8a7326e2cd2ef9f9d4"
  },
  "kernelspec": {
   "display_name": "Python 3.8.12 64-bit ('base': conda)",
   "name": "python3"
  },
  "language_info": {
   "codemirror_mode": {
    "name": "ipython",
    "version": 3
   },
   "file_extension": ".py",
   "mimetype": "text/x-python",
   "name": "python",
   "nbconvert_exporter": "python",
   "pygments_lexer": "ipython3",
   "version": "3.8.12"
  }
 },
 "nbformat": 4,
 "nbformat_minor": 4
}
